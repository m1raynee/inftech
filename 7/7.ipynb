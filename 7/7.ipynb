{
 "cells": [
  {
   "cell_type": "code",
   "execution_count": 2,
   "metadata": {},
   "outputs": [],
   "source": [
    "from sympy import *\n",
    "def transpose(matrix):\n",
    "    return matrix.T"
   ]
  },
  {
   "cell_type": "code",
   "execution_count": 3,
   "metadata": {},
   "outputs": [
    {
     "name": "stdout",
     "output_type": "stream",
     "text": [
      "Исходная матрица:\n"
     ]
    },
    {
     "data": {
      "text/latex": [
       "$\\displaystyle \\left[\\begin{matrix}1 & 2 & 3 & 4\\\\5 & 6 & 7 & 8\\\\9 & 10 & 11 & 12\\\\13 & 14 & 15 & 16\\end{matrix}\\right]$"
      ],
      "text/plain": [
       "Matrix([\n",
       "[ 1,  2,  3,  4],\n",
       "[ 5,  6,  7,  8],\n",
       "[ 9, 10, 11, 12],\n",
       "[13, 14, 15, 16]])"
      ]
     },
     "metadata": {},
     "output_type": "display_data"
    },
    {
     "name": "stdout",
     "output_type": "stream",
     "text": [
      "Транспонированная:\n"
     ]
    },
    {
     "data": {
      "text/latex": [
       "$\\displaystyle \\left[\\begin{matrix}1 & 5 & 9 & 13\\\\2 & 6 & 10 & 14\\\\3 & 7 & 11 & 15\\\\4 & 8 & 12 & 16\\end{matrix}\\right]$"
      ],
      "text/plain": [
       "Matrix([\n",
       "[1, 5,  9, 13],\n",
       "[2, 6, 10, 14],\n",
       "[3, 7, 11, 15],\n",
       "[4, 8, 12, 16]])"
      ]
     },
     "metadata": {},
     "output_type": "display_data"
    }
   ],
   "source": [
    "matrix = Matrix([[1,2,3,4],[5,6,7,8],[9,10,11,12],[13,14,15,16]])\n",
    "\n",
    "print(\"Исходная матрица:\")\n",
    "display(matrix)\n",
    "print(\"Транспонированная:\")\n",
    "display(transpose(matrix))"
   ]
  },
  {
   "cell_type": "code",
   "execution_count": 4,
   "metadata": {},
   "outputs": [],
   "source": [
    "import numpy as np\n",
    "def transpose_matrix(matrix):\n",
    "    if isinstance(matrix, np.ndarray):\n",
    "        return matrix.T\n",
    "    elif isinstance(matrix, list):\n",
    "        return [list(row) for row in zip(*matrix)]\n",
    "    else:\n",
    "        raise ValueError(\"Неподдерживаемый тип данных.\")"
   ]
  },
  {
   "cell_type": "code",
   "execution_count": 5,
   "metadata": {},
   "outputs": [
    {
     "name": "stdout",
     "output_type": "stream",
     "text": [
      "Транспонированная матрица 1 (list):\n",
      "[2, 5, 9, 11]\n",
      "[1, 6, 8, 14]\n",
      "[7, 7, 2, 15]\n",
      "[4, 3, 12, 15]\n",
      "Транспонированная матрица 2 (list):\n",
      "[3, 2]\n",
      "[7, 5]\n",
      "[8, 9]\n",
      "[3, 4]\n",
      "[6, 13]\n",
      "Транспонированная матрица 1 (numpy.array):\n",
      "[[ 2  5  9 11]\n",
      " [ 1  6  8 14]\n",
      " [ 7  7  2 15]\n",
      " [ 4  3 12 15]]\n",
      "Транспонированная матрица 2 (numpy.array):\n",
      "[[ 3  2]\n",
      " [ 7  5]\n",
      " [ 8  9]\n",
      " [ 3  4]\n",
      " [ 6 13]]\n"
     ]
    }
   ],
   "source": [
    "matrix1 = [\n",
    "    [2, 1, 7, 4],\n",
    "    [5, 6, 7, 3],\n",
    "    [9, 8, 2, 12],\n",
    "    [11, 14, 15, 15]\n",
    "]\n",
    "matrix2 = [\n",
    "    [3, 7, 8, 3, 6],\n",
    "    [2, 5, 9, 4, 13]\n",
    "]\n",
    "transposed_matrix1 = transpose_matrix(matrix1)\n",
    "transposed_matrix2 = transpose_matrix(matrix2)\n",
    "print(\"Транспонированная матрица 1 (list):\")\n",
    "for row in transposed_matrix1:\n",
    "    print(row)\n",
    "\n",
    "print(\"Транспонированная матрица 2 (list):\")\n",
    "for row in transposed_matrix2:\n",
    "    print(row)\n",
    "\n",
    "np_matrix1 = np.array(matrix1)\n",
    "np_matrix2 = np.array(matrix2)\n",
    "\n",
    "transposed_np_matrix1 = transpose_matrix(np_matrix1)\n",
    "transposed_np_matrix2 = transpose_matrix(np_matrix2)\n",
    "\n",
    "print(\"Транспонированная матрица 1 (numpy.array):\")\n",
    "print(transposed_np_matrix1)\n",
    "\n",
    "print(\"Транспонированная матрица 2 (numpy.array):\")\n",
    "print(transposed_np_matrix2)"
   ]
  },
  {
   "cell_type": "code",
   "execution_count": 8,
   "metadata": {},
   "outputs": [
    {
     "name": "stdout",
     "output_type": "stream",
     "text": [
      "Шаг 1: (a1, a2) = (0.7900, 1.2400), MSE = 56.2500\n",
      "Шаг 2: (a1, a2) = (0.7015, 1.1494), MSE = 6.7640\n",
      "Шаг 3: (a1, a2) = (0.6892, 1.1702), MSE = 6.3828\n",
      "Шаг 4: (a1, a2) = (0.6721, 1.1804), MSE = 6.3576\n",
      "\n",
      "Итог: достигнуто MSE < 6.36 за 4 шагов.\n"
     ]
    }
   ],
   "source": [
    "def mse(a1, a2):\n",
    "    return 0.25 * (\n",
    "        (a1 + 2*a2 - 5)**2\n",
    "        + (5*a1 + 3*a2 - 6)**2\n",
    "        + (2*a1 + 4*a2 - 10)**2\n",
    "        + (3*a1 + 7*a2 - 8)**2\n",
    "    )\n",
    "def gradient(a1, a2):\n",
    "    df_da1 = 19.5 * a1 + 23 * a2 - 39.5\n",
    "    df_da2 = 23 * a1 + 39 * a2 - 62\n",
    "    return np.array([df_da1, df_da2])\n",
    "a1, a2 = 0, 0\n",
    "alpha = 0.02\n",
    "steps = 0\n",
    "while True:\n",
    "    current_mse = mse(a1, a2)\n",
    "    grad = gradient(a1, a2)\n",
    "    a1 -= alpha * grad[0]\n",
    "    a2 -= alpha * grad[1]\n",
    "    steps += 1\n",
    "    print(f\"Шаг {steps}: (a1, a2) = ({a1:.4f}, {a2:.4f})\"\n",
    "          f\", MSE = {current_mse:.4f}\")\n",
    "    if current_mse < 6.36:\n",
    "        break\n",
    "\n",
    "print(f\"\\nИтог: достигнуто MSE < 6.36 за {steps} шагов.\")"
   ]
  }
 ],
 "metadata": {
  "kernelspec": {
   "display_name": ".env",
   "language": "python",
   "name": "python3"
  },
  "language_info": {
   "codemirror_mode": {
    "name": "ipython",
    "version": 3
   },
   "file_extension": ".py",
   "mimetype": "text/x-python",
   "name": "python",
   "nbconvert_exporter": "python",
   "pygments_lexer": "ipython3",
   "version": "3.12.4"
  }
 },
 "nbformat": 4,
 "nbformat_minor": 2
}
