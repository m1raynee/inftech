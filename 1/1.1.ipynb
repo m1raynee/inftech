{
 "cells": [
  {
   "cell_type": "markdown",
   "metadata": {
    "id": "SHUWJIC_kPpn"
   },
   "source": [
    "## Понятие функции. Построение графиков функций с помощью SymPy. \n",
    "## Практика\n",
    "\n",
    "\n",
    "**(1)** Импортируйте библиотеку и модуль `plot`, вызовите команду для красивой отрисовки формул. Затем, создав переменную, создайте функцию $f(x)=-3x+5$ и постройте ее график. Найдите значения этой функции для значений $x=\\frac{5}{3}$ и $x=2$.\n",
    " <br>\n",
    " <br>\n",
    "Проделайте тоже самое для следующих функций и их точек, с некоторыми из них мы встретимся в будущем и разберем их более подробно, но уже сейчас можно посмотреть на их графики: <br>\n",
    "**(2)** $f(x)=3x^2+3x-6$. Найдите значения функции при $x=0.5$ и $x=7$. <br>\n",
    "**(3)** $f(x)=2x^4+x^3-6x^2+7x+1$. Найдите значения функции при $x=3$ и $x=–5$. <br>\n",
    "**(4)** $f(x)=(x^2)^x$. Найдите значения функции при $x=0$, $х=10$. <br>\n"
   ]
  },
  {
   "cell_type": "code",
   "execution_count": 17,
   "metadata": {
    "id": "JayIlulPkXgb"
   },
   "outputs": [
    {
     "data": {
      "text/latex": [
       "$\\displaystyle \\left(x^{2}\\right)^{x}$"
      ],
      "text/plain": [
       "(x**2)**x"
      ]
     },
     "execution_count": 17,
     "metadata": {},
     "output_type": "execute_result"
    }
   ],
   "source": [
    "from sympy import *\n",
    "from sympy.plotting import plot\n",
    "\n",
    "x = Symbol('x')\n",
    "f = (x ** 2) ** x\n",
    "\n",
    "value1 = 0\n",
    "value2 = 10\n",
    "\n",
    "f"
   ]
  },
  {
   "cell_type": "code",
   "execution_count": 18,
   "metadata": {},
   "outputs": [
    {
     "data": {
      "text/latex": [
       "$\\displaystyle 1$"
      ],
      "text/plain": [
       "1"
      ]
     },
     "execution_count": 18,
     "metadata": {},
     "output_type": "execute_result"
    }
   ],
   "source": [
    "f.subs(x, value1)"
   ]
  },
  {
   "cell_type": "code",
   "execution_count": 19,
   "metadata": {},
   "outputs": [
    {
     "data": {
      "text/latex": [
       "$\\displaystyle 100000000000000000000$"
      ],
      "text/plain": [
       "100000000000000000000"
      ]
     },
     "execution_count": 19,
     "metadata": {},
     "output_type": "execute_result"
    }
   ],
   "source": [
    "f.subs(x, value2)"
   ]
  },
  {
   "cell_type": "code",
   "execution_count": 20,
   "metadata": {},
   "outputs": [
    {
     "data": {
      "image/png": "[encoded data removed]",
      "text/plain": [
       "<Figure size 640x480 with 1 Axes>"
      ]
     },
     "metadata": {},
     "output_type": "display_data"
    },
    {
     "data": {
      "text/plain": [
       "<sympy.plotting.backends.matplotlibbackend.matplotlib.MatplotlibBackend at 0x1b360c8aba0>"
      ]
     },
     "execution_count": 20,
     "metadata": {},
     "output_type": "execute_result"
    }
   ],
   "source": [
    "plot(f)"
   ]
  }
 ],
 "metadata": {
  "colab": {
   "collapsed_sections": [],
   "name": "practice_les-2.ipynb",
   "provenance": []
  },
  "kernelspec": {
   "display_name": ".env",
   "language": "python",
   "name": "python3"
  },
  "language_info": {
   "codemirror_mode": {
    "name": "ipython",
    "version": 3
   },
   "file_extension": ".py",
   "mimetype": "text/x-python",
   "name": "python",
   "nbconvert_exporter": "python",
   "pygments_lexer": "ipython3",
   "version": "3.12.4"
  }
 },
 "nbformat": 4,
 "nbformat_minor": 1
}
