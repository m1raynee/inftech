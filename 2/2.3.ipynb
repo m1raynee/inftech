{
 "cells": [
  {
   "cell_type": "markdown",
   "metadata": {
    "id": "mEFNuokq2MMZ"
   },
   "source": [
    "## Нахождение коэффициентов полиномов аналитически. Практика\n",
    "\n",
    "Для закрепления пройденного материала найдите коэффициенты функции для данного набора точек, и затем проверьте с помощью подстановки, правильный ли у вас получился результат. Степень полинома для составления системы выберите сами, исходя из пройденного в первом уроке правила.\n",
    "\n",
    "1. $(-2.5, 15.0), (-2, 10), (-1.5, 7.0)$\n",
    "2. $(-0.5, -15.0), (-1, -31), (0, -7), (0.5, -4.0)$\n"
   ]
  },
  {
   "cell_type": "code",
   "execution_count": 5,
   "metadata": {
    "id": "67VSSj5P12-l"
   },
   "outputs": [],
   "source": [
    "### YOUR CODE HERE ###\n",
    "from sympy import *\n",
    "import matplotlib.pyplot as plt\n",
    "import numpy as np\n",
    "\n",
    "points_cubic = ((-2.5, 15.0), (-2, 10), (-1.5, 7.0))\n",
    "points_quad = ((-0.5, -15.0), (-1, -31), (0, -7), (0.5, -4.0))"
   ]
  },
  {
   "cell_type": "code",
   "execution_count": 6,
   "metadata": {},
   "outputs": [],
   "source": [
    "def solve_equations(points):\n",
    "    equations = []\n",
    "    s = symbols(','.join(f\"a{i}\" for i in range(len(points))))\n",
    "\n",
    "    for i in range(len(points)):\n",
    "        equations.append(s[0]-points[i][1])\n",
    "\n",
    "        for j in range(1, len(points)):\n",
    "            equations[i] += s[j]*pow(points[i][0], j)\n",
    "\n",
    "    return nonlinsolve(equations, s[:len(points)]).args[0]"
   ]
  },
  {
   "cell_type": "code",
   "execution_count": 7,
   "metadata": {},
   "outputs": [],
   "source": [
    "def analytic_interpolation(points):\n",
    "    x = np.linspace(-15, 15, num=1000)\n",
    "    a = solve_equations(points)\n",
    "    print(a)\n",
    "\n",
    "    plt.plot(x, sum(a[i]*pow(x, i) for i in range(len(a))))\n",
    "    x, y = [x for x, y in points], [y for x, y in points]\n",
    "    plt.scatter(x, y, c='r')\n",
    "    plt.ylim(-35, 35)\n",
    "    plt.xlim(-5, 5)"
   ]
  },
  {
   "cell_type": "code",
   "execution_count": 11,
   "metadata": {},
   "outputs": [
    {
     "name": "stdout",
     "output_type": "stream",
     "text": [
      "(-7.0, 10.0, -10.0, 4.0)\n"
     ]
    },
    {
     "data": {
      "image/png": "[encoded data removed]",
      "text/plain": [
       "<Figure size 640x480 with 1 Axes>"
      ]
     },
     "metadata": {},
     "output_type": "display_data"
    }
   ],
   "source": [
    "analytic_interpolation(points_quad)"
   ]
  }
 ],
 "metadata": {
  "colab": {
   "collapsed_sections": [],
   "name": "Нахождение коэффициентов полиномов аналитически. Практика.ipynb",
   "provenance": []
  },
  "kernelspec": {
   "display_name": ".env",
   "language": "python",
   "name": "python3"
  },
  "language_info": {
   "codemirror_mode": {
    "name": "ipython",
    "version": 3
   },
   "file_extension": ".py",
   "mimetype": "text/x-python",
   "name": "python",
   "nbconvert_exporter": "python",
   "pygments_lexer": "ipython3",
   "version": "3.12.4"
  }
 },
 "nbformat": 4,
 "nbformat_minor": 1
}
