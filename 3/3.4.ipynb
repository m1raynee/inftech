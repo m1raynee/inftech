{
  "nbformat": 4,
  "nbformat_minor": 0,
  "metadata": {
    "kernelspec": {
      "display_name": "Python 3",
      "language": "python",
      "name": "python3"
    },
    "language_info": {
      "codemirror_mode": {
        "name": "ipython",
        "version": 3
      },
      "file_extension": ".py",
      "mimetype": "text/x-python",
      "name": "python",
      "nbconvert_exporter": "python",
      "pygments_lexer": "ipython3",
      "version": "3.7.3"
    },
    "colab": {
      "name": "Аппроксимация и преобразования функций. Домашнее задание.ipynb",
      "provenance": [],
      "collapsed_sections": []
    }
  },
  "cells": [
    {
      "cell_type": "markdown",
      "metadata": {
        "id": "-zOqnEVGugHU"
      },
      "source": [
        "# Блок 1.\n",
        "\n",
        "С помощью symPy найдите полиномы, описывающие данные наборы точек. Затем проведите полное исследование каждого полученного полинома: проверьте четность/нечетность, найдите нули, промежутки знакопостоянства. Постройте их графики. С помощью изменения промежутка для х добейтесь того, чтобы все нули были отображены на графике функции. <br><br><br>\n",
        "а) $(-4; -4268), (-3; -1227), (-1; -17), (1; 17), (3; 1227), (4; 4268)$<br><br>\n",
        "б)$ (-4; -16729), (-3; -3999), (-1; 5), (1; 1), (3; 4005), (4; 16735)$\n"
      ]
    },
    {
      "cell_type": "code",
      "metadata": {
        "id": "mO8e_U97uxvk"
      },
      "source": [
        "from sympy import *\n",
        "\n",
        "a0, a1, a2, a3, a4, a5 = symbols('a0, a1, a2, a3, a4, a5')"
      ],
      "execution_count": null,
      "outputs": []
    },
    {
      "cell_type": "markdown",
      "metadata": {
        "id": "4jCUKC9CuyKO"
      },
      "source": [
        "# Блок 2."
      ]
    },
    {
      "cell_type": "code",
      "metadata": {
        "id": "5ElcKCqet0wk"
      },
      "source": [
        "from sympy import *\n",
        "from sympy.plotting import plot\n",
        "init_printing(use_unicode=False, wrap_line=False, no_global=True)"
      ],
      "execution_count": null,
      "outputs": []
    },
    {
      "cell_type": "code",
      "metadata": {
        "id": "QwTY4Sq8t0w2"
      },
      "source": [
        "import matplotlib.pyplot as plt\n",
        "import numpy as np"
      ],
      "execution_count": null,
      "outputs": []
    },
    {
      "cell_type": "code",
      "metadata": {
        "id": "Y0t8k28Jt0xG"
      },
      "source": [
        "x = Symbol('x')"
      ],
      "execution_count": null,
      "outputs": []
    },
    {
      "cell_type": "markdown",
      "metadata": {
        "id": "wLhMVWF9t0xQ"
      },
      "source": [
        "## 1.\n",
        "### Получите значение MSE меньшее 5."
      ]
    },
    {
      "cell_type": "code",
      "metadata": {
        "id": "LX3-aD49t0xU"
      },
      "source": [
        "def print_points_ands_function1(sympy_function):\n",
        "    def function(x_): return float(sympy_function.subs(x, x_))\n",
        "    \n",
        "    points_X = np.array([-2, -1, 0, 1, 2, 3, 3.5, 4, 4.5, 5])\n",
        "    points_Y = np.array([2, -4, 1, 8, 21, 40, 47, 65, 75, 92])\n",
        "    plt.xlim(-6, 10)\n",
        "    plt.ylim(-1, 100)\n",
        "    \n",
        "    plt.scatter(points_X, points_Y, c='r')\n",
        "    x_range = np.linspace(plt.xlim()[0], plt.xlim()[1], num=100)\n",
        "    function_Y = [function(x_) for x_ in x_range]\n",
        "    plt.plot(x_range, function_Y, 'b')\n",
        "    plt.show()\n",
        "    \n",
        "    MSE = sum([(points_Y[i] - function(points_X[i]))**2 for i in range(len(points_Y))]) / len(points_Y)\n",
        "    print(f'MSE = {MSE}')"
      ],
      "execution_count": null,
      "outputs": []
    },
    {
      "cell_type": "code",
      "metadata": {
        "id": "tCcjAV0qt0xb",
        "outputId": "7d73b65e-59f0-4d31-c914-f97d7da81900"
      },
      "source": [
        "f1 = 48 * x**2 - 128 * x + 83\n",
        "f1"
      ],
      "execution_count": null,
      "outputs": [
        {
          "output_type": "execute_result",
          "data": {
            "image/png": "[encoded data removed]",
            "text/latex": "$\\displaystyle 48 x^{2} - 128 x + 83$",
            "text/plain": [
              "    2             \n",
              "48*x  - 128*x + 83"
            ]
          },
          "metadata": {
            "tags": []
          },
          "execution_count": 5
        }
      ]
    },
    {
      "cell_type": "code",
      "metadata": {
        "id": "VQwDN4XLt0xl",
        "outputId": "a46d8327-06b3-4fbc-fa5d-6a1e4648a22e"
      },
      "source": [
        "print_points_ands_function1(f1)"
      ],
      "execution_count": null,
      "outputs": [
        {
          "output_type": "display_data",
          "data": {
            "image/png": "[encoded data removed]",
            "text/plain": [
              "<Figure size 432x288 with 1 Axes>"
            ]
          },
          "metadata": {
            "tags": [],
            "needs_background": "light"
          }
        },
        {
          "output_type": "stream",
          "text": [
            "MSE = 93691.3\n"
          ],
          "name": "stdout"
        }
      ]
    },
    {
      "cell_type": "markdown",
      "metadata": {
        "id": "HRrtO4Lyt0xt"
      },
      "source": [
        "## 2.\n",
        "### Получите значение MSE меньшее 35."
      ]
    },
    {
      "cell_type": "code",
      "metadata": {
        "id": "dm_YVXYgt0xw"
      },
      "source": [
        "def print_points_ands_function2(sympy_function):\n",
        "    def function(x_): return float(sympy_function.subs(x, x_))\n",
        "    \n",
        "    points_X = np.array([-2, -1, 0, 1, 2, 3, 3.5, 4, 4.5, 5])\n",
        "    points_Y = np.array([-31, -9, 4, -1, 9, 24, 47, 92, 120, 170])\n",
        "    plt.xlim(-3, 6)\n",
        "    plt.ylim(-35, 200)\n",
        "    \n",
        "    plt.scatter(points_X, points_Y, c='r')\n",
        "    x_range = np.linspace(plt.xlim()[0], plt.xlim()[1], num=100)\n",
        "    function_Y = [function(x_) for x_ in x_range]\n",
        "    plt.plot(x_range, function_Y, 'b')\n",
        "    plt.show()\n",
        "    \n",
        "    MSE = sum([(points_Y[i] - function(points_X[i]))**2 for i in range(len(points_Y))]) / len(points_Y)\n",
        "    print(f'MSE = {MSE}')"
      ],
      "execution_count": null,
      "outputs": []
    },
    {
      "cell_type": "code",
      "metadata": {
        "id": "7LMQiJDKt0x1",
        "outputId": "8b8d6fed-a7c9-4a8d-c9f8-9ace332dd838"
      },
      "source": [
        "f2 = 4 * x**3 + 30 * x**2 + 74 * x + 62\n",
        "f2"
      ],
      "execution_count": null,
      "outputs": [
        {
          "output_type": "execute_result",
          "data": {
            "image/png": "[encoded data removed]",
            "text/latex": "$\\displaystyle 4 x^{3} + 30 x^{2} + 74 x + 62$",
            "text/plain": [
              "   3       2            \n",
              "4*x  + 30*x  + 74*x + 62"
            ]
          },
          "metadata": {
            "tags": []
          },
          "execution_count": 8
        }
      ]
    },
    {
      "cell_type": "code",
      "metadata": {
        "id": "SjwUXoCXt0x6",
        "outputId": "a5e8c7e9-602e-430b-acd3-c8c5bd2b055e"
      },
      "source": [
        "print_points_ands_function2(f2)"
      ],
      "execution_count": null,
      "outputs": [
        {
          "output_type": "display_data",
          "data": {
            "image/png": "[encoded data removed]",
            "text/plain": [
              "<Figure size 432x288 with 1 Axes>"
            ]
          },
          "metadata": {
            "tags": [],
            "needs_background": "light"
          }
        },
        {
          "output_type": "stream",
          "text": [
            "MSE = 607200.2\n"
          ],
          "name": "stdout"
        }
      ]
    },
    {
      "cell_type": "markdown",
      "metadata": {
        "id": "xYJNX-nUt0x_"
      },
      "source": [
        "## 3.\n",
        "### Получите значение MSE меньшее 3300."
      ]
    },
    {
      "cell_type": "code",
      "metadata": {
        "id": "UNLnKjvit0yB"
      },
      "source": [
        "def print_points_ands_function3(sympy_function):\n",
        "    def function(x_): return float(sympy_function.subs(x, x_))\n",
        "    \n",
        "    points_X = np.array([-2, -1, 0, 1, 2, 3, 3.5, 4, 4.5, 5])\n",
        "    points_Y = np.array([60, 25, 4, -0, -57, -195, -295, -540, -700, -760])\n",
        "    plt.xlim(-10, 6)\n",
        "    plt.ylim(-850, 100)\n",
        "    \n",
        "    plt.scatter(points_X, points_Y, c='r')\n",
        "    x_range = np.linspace(plt.xlim()[0], plt.xlim()[1], num=100)\n",
        "    function_Y = [function(x_) for x_ in x_range]\n",
        "    plt.plot(x_range, function_Y, 'b')\n",
        "    plt.show()\n",
        "    \n",
        "    MSE = sum([(points_Y[i] - function(points_X[i]))**2 for i in range(len(points_Y))]) / len(points_Y)\n",
        "    print(f'MSE = {MSE}')"
      ],
      "execution_count": null,
      "outputs": []
    },
    {
      "cell_type": "code",
      "metadata": {
        "id": "osbCVOuIt0yH",
        "outputId": "22bfe175-fcf5-4290-9dd1-3b2fc34ff029"
      },
      "source": [
        "f3 = -36 * x**3 - 756 * x**2 - 5334 * x - 12636\n",
        "f3"
      ],
      "execution_count": null,
      "outputs": [
        {
          "output_type": "execute_result",
          "data": {
            "image/png": "[encoded data removed]",
            "text/latex": "$\\displaystyle - 36 x^{3} - 756 x^{2} - 5334 x - 12636$",
            "text/plain": [
              "      3        2                 \n",
              "- 36*x  - 756*x  - 5334*x - 12636"
            ]
          },
          "metadata": {
            "tags": []
          },
          "execution_count": 11
        }
      ]
    },
    {
      "cell_type": "code",
      "metadata": {
        "id": "1T4lJVQPt0yR",
        "outputId": "ab86dbbf-6fd9-42a9-f5ef-6316179ace4f"
      },
      "source": [
        "print_points_ands_function3(f3)"
      ],
      "execution_count": null,
      "outputs": [
        {
          "output_type": "display_data",
          "data": {
            "image/png": "[encoded data removed]",
            "text/plain": [
              "<Figure size 432x288 with 1 Axes>"
            ]
          },
          "metadata": {
            "tags": [],
            "needs_background": "light"
          }
        },
        {
          "output_type": "stream",
          "text": [
            "MSE = 1346344545.35\n"
          ],
          "name": "stdout"
        }
      ]
    },
    {
      "cell_type": "markdown",
      "metadata": {
        "id": "3jcBH1M3t0yZ"
      },
      "source": [
        "## 4.\n",
        "### Получите значение MSE меньшее 25."
      ]
    },
    {
      "cell_type": "code",
      "metadata": {
        "id": "R4nnsc8zt0yb"
      },
      "source": [
        "def print_points_ands_function4(sympy_function):\n",
        "    def function(x_): return float(sympy_function.subs(x, x_))\n",
        "    \n",
        "    points_X = np.array([-2, -1, 0, 1, 2, 3, 3.5, 4, 4.5, 5])\n",
        "    points_Y = np.array([-42, -37, -23, -36, -45, -80, -83, -110, -131, -155])\n",
        "    plt.xlim(-4, 20)\n",
        "    plt.ylim(-160, -10)\n",
        "    \n",
        "    plt.scatter(points_X, points_Y, c='r')\n",
        "    x_range = np.linspace(plt.xlim()[0], plt.xlim()[1], num=100)\n",
        "    function_Y = [function(x_) for x_ in x_range]\n",
        "    plt.plot(x_range, function_Y, 'b')\n",
        "    plt.show()\n",
        "    \n",
        "    MSE = sum([(points_Y[i] - function(points_X[i]))**2 for i in range(len(points_Y))]) / len(points_Y)\n",
        "    print(f'MSE = {MSE}')"
      ],
      "execution_count": null,
      "outputs": []
    },
    {
      "cell_type": "code",
      "metadata": {
        "id": "Uq__GcfPt0yj",
        "outputId": "345572d8-35a9-47c2-d7c9-4769bd8d17e7"
      },
      "source": [
        "f4 = - 5 / 4 * x**2 + 25 * x - 152\n",
        "f4"
      ],
      "execution_count": null,
      "outputs": [
        {
          "output_type": "execute_result",
          "data": {
            "image/png": "[encoded data removed]",
            "text/latex": "$\\displaystyle - 1.25 x^{2} + 25 x - 152$",
            "text/plain": [
              "        2             \n",
              "- 1.25*x  + 25*x - 152"
            ]
          },
          "metadata": {
            "tags": []
          },
          "execution_count": 14
        }
      ]
    },
    {
      "cell_type": "code",
      "metadata": {
        "id": "Muwpsp8tt0yp",
        "outputId": "99828dab-4bd6-434b-fdc9-ee8fa9113858"
      },
      "source": [
        "print_points_ands_function4(f4)"
      ],
      "execution_count": null,
      "outputs": [
        {
          "output_type": "display_data",
          "data": {
            "image/png": "[encoded data removed]",
            "text/plain": [
              "<Figure size 432x288 with 1 Axes>"
            ]
          },
          "metadata": {
            "tags": [],
            "needs_background": "light"
          }
        },
        {
          "output_type": "stream",
          "text": [
            "MSE = 9143.51953125\n"
          ],
          "name": "stdout"
        }
      ]
    },
    {
      "cell_type": "code",
      "metadata": {
        "id": "oTNLmWfDt0yt"
      },
      "source": [
        ""
      ],
      "execution_count": null,
      "outputs": []
    }
  ]
}