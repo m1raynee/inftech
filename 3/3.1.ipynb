{
 "cells": [
  {
   "cell_type": "markdown",
   "metadata": {},
   "source": [
    "# Практическое задание.\n",
    "Для того, чтобы закрепить материал, посчитайте значение среднеквадратичной\n",
    "ошибки для данных наборов точек и аппроксимирующих функций. Постройте графики\n",
    "этих функций и отметьте данные точки на нем, чтобы посмотреть, как проходит через них\n",
    "график аппроксимирующей функции. При решении можете пользоваться python и\n",
    "matplotlib, \n",
    "\n",
    "Начальный уровень.\n",
    "1. (2; 12.258), (4; 17.24), (8; 30.151).\n",
    "f(x) = 3x + 5.\n",
    "2. (2; 3.688), (4; 10.791), (8; 20.705).\n",
    "f(x) =  0.25x^2+0.75x+0.25\n",
    "Средний уровень.\n",
    "1. (2; 4.872), (4; 29.707), (8; 246.971), (10; 485.727), (12; 840.658).\n",
    "f(x) = 0.5x^3+0.25x^2+0.75x+1.25\n"
   ]
  },
  {
   "cell_type": "code",
   "execution_count": 1,
   "metadata": {},
   "outputs": [],
   "source": [
    "def MSE(points, f):\n",
    "    return sum((y-f(x))**2 for x, y in points)/len(points)"
   ]
  },
  {
   "cell_type": "code",
   "execution_count": 2,
   "metadata": {},
   "outputs": [
    {
     "data": {
      "text/plain": [
       "0.9883216666666655"
      ]
     },
     "execution_count": 2,
     "metadata": {},
     "output_type": "execute_result"
    }
   ],
   "source": [
    "# 1\n",
    "points = ((2, 12.258), (4, 17.24), (8, 30.151))\n",
    "f = lambda x: 3*x + 5\n",
    "MSE(points, f)"
   ]
  },
  {
   "cell_type": "code",
   "execution_count": 3,
   "metadata": {},
   "outputs": [
    {
     "data": {
      "text/plain": [
       "5.268516666666669"
      ]
     },
     "execution_count": 3,
     "metadata": {},
     "output_type": "execute_result"
    }
   ],
   "source": [
    "# 2\n",
    "points = ((2, 3.688), (4, 10.791), (8, 20.705))\n",
    "f = lambda x: 0.25*x**2+0.75*x+0.25\n",
    "MSE(points, f)"
   ]
  },
  {
   "cell_type": "code",
   "execution_count": 4,
   "metadata": {},
   "outputs": [
    {
     "data": {
      "text/plain": [
       "1662.1253134000003"
      ]
     },
     "execution_count": 4,
     "metadata": {},
     "output_type": "execute_result"
    }
   ],
   "source": [
    "# 3\n",
    "points = ((2, 4.872), (4, 29.707), (8, 246.971), (10, 485.727), (12, 840.658))\n",
    "f = lambda x: 0.5*x**3+0.25*x**2+0.75*x+1.25\n",
    "MSE(points, f)"
   ]
  }
 ],
 "metadata": {
  "kernelspec": {
   "display_name": ".env",
   "language": "python",
   "name": "python3"
  },
  "language_info": {
   "codemirror_mode": {
    "name": "ipython",
    "version": 3
   },
   "file_extension": ".py",
   "mimetype": "text/x-python",
   "name": "python",
   "nbconvert_exporter": "python",
   "pygments_lexer": "ipython3",
   "version": "3.12.4"
  }
 },
 "nbformat": 4,
 "nbformat_minor": 4
}
