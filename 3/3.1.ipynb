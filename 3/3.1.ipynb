{
 "cells": [
  {
   "cell_type": "markdown",
   "metadata": {},
   "source": [
    "# Практическое задание.\n",
    "Для того, чтобы закрепить материал, посчитайте значение среднеквадратичной\n",
    "ошибки для данных наборов точек и аппроксимирующих функций. Постройте графики\n",
    "этих функций и отметьте данные точки на нем, чтобы посмотреть, как проходит через них\n",
    "график аппроксимирующей функции. При решении можете пользоваться python и\n",
    "matplotlib, \n",
    "\n",
    "Начальный уровень.\n",
    "1. (2; 12.258), (4; 17.24), (8; 30.151).\n",
    "f(x) = 3x + 5.\n",
    "2. (2; 3.688), (4; 10.791), (8; 20.705).\n",
    "f(x) = 0.25x .75x .25.\n",
    "2 + 0 + 1\n",
    "Средний уровень.\n",
    "1. (2; 4.872), (4; 29.707), (8; 246.971), (10; 485.727), (12; 840.658).\n",
    "f(x) = 0.5x .25x .75x .25.\n"
   ]
  },
  {
   "cell_type": "code",
   "execution_count": null,
   "metadata": {},
   "outputs": [],
   "source": []
  }
 ],
 "metadata": {
  "kernelspec": {
   "display_name": ".env",
   "language": "python",
   "name": "python3"
  },
  "language_info": {
   "codemirror_mode": {
    "name": "ipython",
    "version": 3
   },
   "file_extension": ".py",
   "mimetype": "text/x-python",
   "name": "python",
   "nbconvert_exporter": "python",
   "pygments_lexer": "ipython3",
   "version": "3.12.4"
  }
 },
 "nbformat": 4,
 "nbformat_minor": 4
}
