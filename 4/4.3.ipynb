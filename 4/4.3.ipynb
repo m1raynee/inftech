{
 "cells": [
  {
   "cell_type": "markdown",
   "metadata": {},
   "source": [
    "# Практика.\n",
    "\tНайдите производную f(x)=5x^5+7x.\n",
    "\tНайдите производную f(x)=6x^4+12x^2+5.\n",
    "    Найдите производную f(x)=6x^3+3x^4-4.  \n",
    "\tНайдите производную f(x)=(2x+3)(6x+2). \n",
    "\tНайдите производную f(x)=(3x^2+e^x)sin(x)      \n",
    "\tНайдите производную f(x)=3sin^2 (x),\n",
    "\tНайдите производную f(x)=13e^2x+5x^7"
   ]
  },
  {
   "cell_type": "code",
   "execution_count": 2,
   "metadata": {},
   "outputs": [],
   "source": [
    "from sympy import *\n",
    "\n",
    "x = Symbol(\"x\")"
   ]
  },
  {
   "cell_type": "code",
   "execution_count": 3,
   "metadata": {},
   "outputs": [
    {
     "data": {
      "text/latex": [
       "$\\displaystyle 25 x^{4} + 7$"
      ],
      "text/plain": [
       "25*x**4 + 7"
      ]
     },
     "execution_count": 3,
     "metadata": {},
     "output_type": "execute_result"
    }
   ],
   "source": [
    "diff(5*x**5+7*x, x)"
   ]
  },
  {
   "cell_type": "code",
   "execution_count": 4,
   "metadata": {},
   "outputs": [
    {
     "data": {
      "text/latex": [
       "$\\displaystyle 24 x^{3} + 24 x$"
      ],
      "text/plain": [
       "24*x**3 + 24*x"
      ]
     },
     "execution_count": 4,
     "metadata": {},
     "output_type": "execute_result"
    }
   ],
   "source": [
    "diff(6*x**4+12*x**2+5, x)"
   ]
  },
  {
   "cell_type": "code",
   "execution_count": 5,
   "metadata": {},
   "outputs": [
    {
     "data": {
      "text/latex": [
       "$\\displaystyle 12 x^{3} + 18 x^{2}$"
      ],
      "text/plain": [
       "12*x**3 + 18*x**2"
      ]
     },
     "execution_count": 5,
     "metadata": {},
     "output_type": "execute_result"
    }
   ],
   "source": [
    "diff(6*x**3+3*x**4-4, x)"
   ]
  },
  {
   "cell_type": "code",
   "execution_count": 6,
   "metadata": {},
   "outputs": [
    {
     "data": {
      "text/latex": [
       "$\\displaystyle 24 x + 22$"
      ],
      "text/plain": [
       "24*x + 22"
      ]
     },
     "execution_count": 6,
     "metadata": {},
     "output_type": "execute_result"
    }
   ],
   "source": [
    "diff((2*x+3)*(6*x+2), x)"
   ]
  },
  {
   "cell_type": "code",
   "execution_count": 7,
   "metadata": {},
   "outputs": [
    {
     "data": {
      "text/latex": [
       "$\\displaystyle \\left(6 x + e^{x}\\right) \\sin{\\left(x \\right)} + \\left(3 x^{2} + e^{x}\\right) \\cos{\\left(x \\right)}$"
      ],
      "text/plain": [
       "(6*x + exp(x))*sin(x) + (3*x**2 + exp(x))*cos(x)"
      ]
     },
     "execution_count": 7,
     "metadata": {},
     "output_type": "execute_result"
    }
   ],
   "source": [
    "diff((3*x**2+exp(x))*sin(x), x)"
   ]
  },
  {
   "cell_type": "code",
   "execution_count": 8,
   "metadata": {},
   "outputs": [
    {
     "data": {
      "text/latex": [
       "$\\displaystyle 6 \\sin{\\left(x \\right)} \\cos{\\left(x \\right)}$"
      ],
      "text/plain": [
       "6*sin(x)*cos(x)"
      ]
     },
     "execution_count": 8,
     "metadata": {},
     "output_type": "execute_result"
    }
   ],
   "source": [
    "diff(3*sin(x)**2, x)"
   ]
  },
  {
   "cell_type": "code",
   "execution_count": 9,
   "metadata": {},
   "outputs": [
    {
     "data": {
      "text/latex": [
       "$\\displaystyle 35 x^{6} + 26 e^{2 x}$"
      ],
      "text/plain": [
       "35*x**6 + 26*exp(2*x)"
      ]
     },
     "execution_count": 9,
     "metadata": {},
     "output_type": "execute_result"
    }
   ],
   "source": [
    "diff(13*exp(2*x)+5*x**7, x)"
   ]
  }
 ],
 "metadata": {
  "kernelspec": {
   "display_name": ".env",
   "language": "python",
   "name": "python3"
  },
  "language_info": {
   "codemirror_mode": {
    "name": "ipython",
    "version": 3
   },
   "file_extension": ".py",
   "mimetype": "text/x-python",
   "name": "python",
   "nbconvert_exporter": "python",
   "pygments_lexer": "ipython3",
   "version": "3.12.4"
  }
 },
 "nbformat": 4,
 "nbformat_minor": 4
}
